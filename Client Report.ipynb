{
 "cells": [
  {
   "cell_type": "markdown",
   "metadata": {},
   "source": [
    "# Statistical Modeling Report for Financial Client (Proof of Concept)"
   ]
  },
  {
   "cell_type": "markdown",
   "metadata": {},
   "source": [
    "Date Created: <i>8/29/2018</i>"
   ]
  },
  {
   "cell_type": "markdown",
   "metadata": {},
   "source": [
    "<b> Goals </b> <br>\n",
    "A financial institution hopes to gain insights on the types of clients who purchase their auto insurance and the success of their current auto insurance campaign. To understand the current client profile and make predictions on the potential customers who would respond positively to this campaign, we will leverage statistical modeling. "
   ]
  },
  {
   "cell_type": "markdown",
   "metadata": {},
   "source": [
    "<b> Models </b> <br>\n",
    "To address these goals, we considered two types of statistical models: logistic regression, and random forest. <br>\n",
    "All though many types of models were constructed, we will report on the two models (one from each category of modeling) that yielded the best most accurate and created the greatest insights."
   ]
  },
  {
   "cell_type": "markdown",
   "metadata": {},
   "source": [
    "### Overview of the Modeling Types"
   ]
  },
  {
   "cell_type": "markdown",
   "metadata": {},
   "source": [
    "<b> Logistic Regression: </b> <br>\n",
    "All regression models relate many predictors to one response variable. In logistic regression, the response variable is binary, meaning it only has two possible outcomes. Consider the current campaign -  the predictors are client demographics (age, education, balance, etc.) and call information (time of call, duration, etc.), and the response is whether or not the client will buy car insurance. Logistic regression takes the logarithmic value of the odds that an event (i.e. the client buys car insurance) will happen, and relates that \"logodds\" linearly to the values of the predictors. The output the model is a coefficient for each variable that describes how it relates to the \"logodds\" of the response event."
   ]
  },
  {
   "cell_type": "markdown",
   "metadata": {},
   "source": [
    "<b> Random Forest: </b> <br>\n",
    "The foundation of a random forest is decision trees. Decision trees split the predictors into branches in order to make a classification decision about the response variable. The random forest model iteratively builds and averages hundreds of different decision trees to identify the optimal split across all predictors that will yield the highest significance and best classification accuracy."
   ]
  },
  {
   "cell_type": "markdown",
   "metadata": {},
   "source": [
    "# The Data"
   ]
  },
  {
   "cell_type": "markdown",
   "metadata": {},
   "source": [
    "First, we import the packages. These contain pre-defined functions we use when modeling in Python."
   ]
  },
  {
   "cell_type": "code",
   "execution_count": 2,
   "metadata": {},
   "outputs": [],
   "source": [
    "# import packages\n",
    "import pandas as pd\n",
    "import numpy as np\n",
    "import matplotlib.pyplot as plt\n",
    "import pymysql as sql\n",
    "%matplotlib inline\n",
    "import seaborn as sns; sns.set()\n",
    "import math\n",
    "import datetime\n",
    "\n",
    "from sklearn import datasets\n",
    "from sklearn.feature_selection import RFE\n",
    "from sklearn.linear_model import LogisticRegression\n",
    "from sklearn.ensemble import RandomForestClassifier\n",
    "from sklearn.model_selection import train_test_split\n",
    "from sklearn.metrics import accuracy_score\n",
    "from sklearn.metrics import confusion_matrix\n",
    "from sklearn.metrics import roc_auc_score\n",
    "from sklearn.metrics import roc_curve\n",
    "\n",
    "import itertools\n",
    "\n",
    "import warnings\n",
    "warnings.filterwarnings(\"ignore\")\n",
    "\n",
    "# output multiple lines per block\n",
    "from IPython.core.interactiveshell import InteractiveShell\n",
    "InteractiveShell.ast_node_interactivity = \"all\""
   ]
  },
  {
   "cell_type": "markdown",
   "metadata": {},
   "source": [
    "The next code block defines a function to plot a confusion matrix, which we will use later."
   ]
  },
  {
   "cell_type": "code",
   "execution_count": 518,
   "metadata": {},
   "outputs": [],
   "source": [
    "def plot_confusion_matrix(cm, classes,\n",
    "                          normalize=False,\n",
    "                          title='Confusion matrix',\n",
    "                          cmap=plt.cm.Blues):\n",
    "    \"\"\"\n",
    "    This function prints and plots the confusion matrix.\n",
    "    Normalization can be applied by setting `normalize=True`.\n",
    "    \"\"\"\n",
    "    plt.imshow(cm, interpolation='nearest', cmap=cmap)\n",
    "    plt.title(title)\n",
    "    plt.colorbar()\n",
    "    tick_marks = np.arange(len(classes))\n",
    "    plt.xticks(tick_marks, classes, rotation=45)\n",
    "    plt.yticks(tick_marks, classes)\n",
    "\n",
    "    if normalize:\n",
    "        cm = cm.astype('float') / cm.sum(axis=1)[:, np.newaxis]\n",
    "        print(\"Normalized confusion matrix\")\n",
    "    else:\n",
    "        print('Confusion matrix, without normalization')\n",
    "\n",
    "    print(cm)\n",
    "\n",
    "    thresh = cm.max() / 2.\n",
    "    for i, j in itertools.product(range(cm.shape[0]), range(cm.shape[1])):\n",
    "        plt.text(j, i, cm[i, j],\n",
    "                 horizontalalignment=\"center\",\n",
    "                 color=\"white\" if cm[i, j] > thresh else \"black\")\n",
    "\n",
    "    plt.tight_layout()\n",
    "    plt.ylabel('True label')\n",
    "    plt.xlabel('Predicted label')"
   ]
  },
  {
   "cell_type": "markdown",
   "metadata": {},
   "source": [
    "## Import the Data"
   ]
  },
  {
   "cell_type": "markdown",
   "metadata": {},
   "source": [
    "Next, we access the data from the client's MySQL databases. We have to establish a connection to the database, then store the data in local dataframes."
   ]
  },
  {
   "cell_type": "markdown",
   "metadata": {},
   "source": [
    "<i>Note: this RDS instance is no longer active</i>"
   ]
  },
  {
   "cell_type": "code",
   "execution_count": null,
   "metadata": {},
   "outputs": [],
   "source": [
    "host=\"bootcamp-open.ctzjfvqmre0y.us-east-1.rds.amazonaws.com\"\n",
    "port=3306\n",
    "dbname=\"team_2\"\n",
    "user=\"team_2\"\n",
    "password=\"captechlistens!\"\n",
    "\n",
    "conn = sql.connect(host, user=user,port=port, passwd=password, db=dbname)"
   ]
  },
  {
   "cell_type": "code",
   "execution_count": 520,
   "metadata": {},
   "outputs": [],
   "source": [
    "combined_table = pd.read_sql('SELECT * FROM team_2.combined_table', con=conn)\n",
    "conn.close()"
   ]
  },
  {
   "cell_type": "markdown",
   "metadata": {},
   "source": [
    "In this dataframe, each client has a row with information on their demographics, how they've been contacted during the current campaign, as well as the total number of times they've been contacted across all campaigns."
   ]
  },
  {
   "cell_type": "markdown",
   "metadata": {},
   "source": [
    "There are two success columns: Current_Success and Overall_Sucess. These will each be used as seperate response variables in different models."
   ]
  },
  {
   "cell_type": "markdown",
   "metadata": {},
   "source": [
    "## Data Cleaning\n",
    "In order to make sure our data can be used for modeling, we will make some slight adjustments to the dataframe."
   ]
  },
  {
   "cell_type": "markdown",
   "metadata": {},
   "source": [
    "### Data Type Handling\n",
    "First, we have to make sure the data types were read in from SQL correctly."
   ]
  },
  {
   "cell_type": "code",
   "execution_count": 521,
   "metadata": {},
   "outputs": [
    {
     "data": {
      "text/plain": [
       "ID                        int64\n",
       "Age                       int64\n",
       "Gender                   object\n",
       "Marital                  object\n",
       "Job                      object\n",
       "Education                object\n",
       "Balance                  object\n",
       "HH_Insurance              int64\n",
       "Car_Loan                  int64\n",
       "Default_Flag              int64\n",
       "Last_Contact             object\n",
       "Weekday                  object\n",
       "Days_Passed               int64\n",
       "Call_Start               object\n",
       "Hour                    float64\n",
       "Duration                float64\n",
       "No_Of_Contacts            int64\n",
       "Total_No_Of_Contacts      int64\n",
       "Contacted                 int64\n",
       "Current_Success         float64\n",
       "Overall_Success           int64\n",
       "dtype: object"
      ]
     },
     "execution_count": 521,
     "metadata": {},
     "output_type": "execute_result"
    }
   ],
   "source": [
    "combined_table.dtypes"
   ]
  },
  {
   "cell_type": "code",
   "execution_count": 522,
   "metadata": {},
   "outputs": [],
   "source": [
    "# change to boolean (0,1 -> True, False)\n",
    "bool_columns = ['Car_Loan', 'Default_Flag', 'HH_Insurance', 'Contacted', 'Current_Success', 'Overall_Success']\n",
    "combined_table[bool_columns] = combined_table[bool_columns].astype('bool')"
   ]
  },
  {
   "cell_type": "code",
   "execution_count": 523,
   "metadata": {},
   "outputs": [],
   "source": [
    "# change to categorical factors\n",
    "cat_columns = ['Education', 'Gender', 'Job', 'Marital', 'Weekday', 'Hour']\n",
    "combined_table[cat_columns] = combined_table[cat_columns].astype('category')"
   ]
  },
  {
   "cell_type": "code",
   "execution_count": 524,
   "metadata": {},
   "outputs": [],
   "source": [
    "# change to dates and times\n",
    "combined_table['Last_Contact'] = pd.to_datetime(combined_table['Last_Contact'])"
   ]
  },
  {
   "cell_type": "code",
   "execution_count": 525,
   "metadata": {},
   "outputs": [],
   "source": [
    "# change to float\n",
    "combined_table['Balance'] = combined_table['Balance'].astype('float')"
   ]
  },
  {
   "cell_type": "code",
   "execution_count": 526,
   "metadata": {},
   "outputs": [],
   "source": [
    "# drop uninformative columns\n",
    "combined_table = combined_table.drop(['Call_Start', 'ID'], axis = 1)\n",
    "    # Call_Start data is encompassed by Hour - this column won't be used in modeling\n",
    "    # ID is used for indexing - can't provide insights in modeling"
   ]
  },
  {
   "cell_type": "code",
   "execution_count": 527,
   "metadata": {},
   "outputs": [
    {
     "data": {
      "text/plain": [
       "Age                              int64\n",
       "Gender                        category\n",
       "Marital                       category\n",
       "Job                           category\n",
       "Education                     category\n",
       "Balance                        float64\n",
       "HH_Insurance                      bool\n",
       "Car_Loan                          bool\n",
       "Default_Flag                      bool\n",
       "Last_Contact            datetime64[ns]\n",
       "Weekday                       category\n",
       "Days_Passed                      int64\n",
       "Hour                          category\n",
       "Duration                       float64\n",
       "No_Of_Contacts                   int64\n",
       "Total_No_Of_Contacts             int64\n",
       "Contacted                         bool\n",
       "Current_Success                   bool\n",
       "Overall_Success                   bool\n",
       "dtype: object"
      ]
     },
     "execution_count": 527,
     "metadata": {},
     "output_type": "execute_result"
    }
   ],
   "source": [
    "combined_table.dtypes # much better!"
   ]
  },
  {
   "cell_type": "markdown",
   "metadata": {},
   "source": [
    "### Removing Outliers:\n",
    "Very large numeric outliers will skew the results of our model, so we should drop rows for large abnormalities. <br>\n",
    "Numeric Values: Age, Balance, Days_Passed, Duration, No_Of_Contacts, Total_No_Of_Contacts"
   ]
  },
  {
   "cell_type": "markdown",
   "metadata": {},
   "source": [
    "#### Age"
   ]
  },
  {
   "cell_type": "code",
   "execution_count": 528,
   "metadata": {},
   "outputs": [
    {
     "data": {
      "image/png": "[encoded data removed]",
      "text/plain": [
       "<Figure size 432x288 with 1 Axes>"
      ]
     },
     "metadata": {},
     "output_type": "display_data"
    }
   ],
   "source": [
    "sns.distplot(combined_table.Age, kde = False, bins = 20); # looks good"
   ]
  },
  {
   "cell_type": "markdown",
   "metadata": {},
   "source": [
    "#### Balance"
   ]
  },
  {
   "cell_type": "code",
   "execution_count": 529,
   "metadata": {},
   "outputs": [
    {
     "data": {
      "text/plain": [
       "<matplotlib.axes._subplots.AxesSubplot at 0x1d6e8c44588>"
      ]
     },
     "execution_count": 529,
     "metadata": {},
     "output_type": "execute_result"
    },
    {
     "data": {
      "text/plain": [
       "98417.0"
      ]
     },
     "execution_count": 529,
     "metadata": {},
     "output_type": "execute_result"
    },
    {
     "data": {
      "image/png": "[encoded data removed]",
      "text/plain": [
       "<Figure size 432x288 with 1 Axes>"
      ]
     },
     "metadata": {},
     "output_type": "display_data"
    }
   ],
   "source": [
    "# let's look at the high values\n",
    "high_balance = combined_table.loc[combined_table['Balance'] > 10000, 'Balance'];\n",
    "sns.distplot(high_balance, kde = False, rug = True);\n",
    "high_balance.max() # one account at nearly $100,000.... let's drop this outlier"
   ]
  },
  {
   "cell_type": "code",
   "execution_count": 530,
   "metadata": {},
   "outputs": [
    {
     "data": {
      "image/png": "[encoded data removed]",
      "text/plain": [
       "<Figure size 432x288 with 1 Axes>"
      ]
     },
     "metadata": {},
     "output_type": "display_data"
    }
   ],
   "source": [
    "combined_table = combined_table[combined_table.Balance != combined_table.Balance.max()]\n",
    "combined_table = combined_table.reset_index(drop=True)\n",
    "sns.distplot(combined_table.Balance, kde = False); # much better!"
   ]
  },
  {
   "cell_type": "markdown",
   "metadata": {},
   "source": [
    "#### Days_Passed"
   ]
  },
  {
   "cell_type": "code",
   "execution_count": 531,
   "metadata": {},
   "outputs": [
    {
     "data": {
      "image/png": "[encoded data removed]",
      "text/plain": [
       "<Figure size 432x288 with 1 Axes>"
      ]
     },
     "metadata": {},
     "output_type": "display_data"
    }
   ],
   "source": [
    "# let's look at the high values\n",
    "high_dp = combined_table.loc[combined_table['Days_Passed'] > 400, 'Days_Passed'];\n",
    "sns.distplot(high_dp, kde = False, rug = True); # no problems here"
   ]
  },
  {
   "cell_type": "markdown",
   "metadata": {},
   "source": [
    "#### Duration"
   ]
  },
  {
   "cell_type": "code",
   "execution_count": 532,
   "metadata": {},
   "outputs": [
    {
     "data": {
      "image/png": "[encoded data removed]",
      "text/plain": [
       "<Figure size 432x288 with 1 Axes>"
      ]
     },
     "metadata": {},
     "output_type": "display_data"
    }
   ],
   "source": [
    "# let's look at the high values\n",
    "high_duration = combined_table.loc[combined_table['Duration'] > 600, 'Duration'];\n",
    "sns.distplot(high_duration, kde = False, rug = True); # no problems here"
   ]
  },
  {
   "cell_type": "markdown",
   "metadata": {},
   "source": [
    "#### No of Contacts"
   ]
  },
  {
   "cell_type": "code",
   "execution_count": 533,
   "metadata": {},
   "outputs": [
    {
     "data": {
      "image/png": "[encoded data removed]",
      "text/plain": [
       "<Figure size 432x288 with 1 Axes>"
      ]
     },
     "metadata": {},
     "output_type": "display_data"
    }
   ],
   "source": [
    "# let's look at the high values\n",
    "high_noc = combined_table.loc[combined_table['No_Of_Contacts'] > 10, 'No_Of_Contacts'];\n",
    "sns.distplot(high_noc, kde = False, rug = True); # no problems here"
   ]
  },
  {
   "cell_type": "markdown",
   "metadata": {},
   "source": [
    "#### Total No Of Contacts"
   ]
  },
  {
   "cell_type": "code",
   "execution_count": 534,
   "metadata": {},
   "outputs": [
    {
     "data": {
      "image/png": "[encoded data removed]",
      "text/plain": [
       "<Figure size 432x288 with 1 Axes>"
      ]
     },
     "metadata": {},
     "output_type": "display_data"
    }
   ],
   "source": [
    "# let's look at the high values\n",
    "high_tnoc = combined_table.loc[combined_table['Total_No_Of_Contacts'] > 10, 'Total_No_Of_Contacts'];\n",
    "sns.distplot(high_tnoc, kde = False, rug = True); # 60 contacts is a large outlier... let's remove this"
   ]
  },
  {
   "cell_type": "code",
   "execution_count": 535,
   "metadata": {},
   "outputs": [
    {
     "data": {
      "image/png": "[encoded data removed]",
      "text/plain": [
       "<Figure size 432x288 with 1 Axes>"
      ]
     },
     "metadata": {},
     "output_type": "display_data"
    }
   ],
   "source": [
    "combined_table = combined_table[combined_table.Total_No_Of_Contacts != combined_table.Total_No_Of_Contacts.max()]\n",
    "combined_table = combined_table.reset_index(drop=True)\n",
    "sns.distplot(combined_table.Total_No_Of_Contacts, kde = False); # much better!"
   ]
  },
  {
   "cell_type": "markdown",
   "metadata": {},
   "source": [
    "### Standardize Numeric Values\n",
    "Large numeric values are overweighed in our models. Therefore, values like balance (ranges up to 50,000) would be deemed more important than values like age (ranges to to 85). To make sure these values can be compared equally, we have to standardize them by centering the means around 0. To do this, we will use the simple standardizing function: <br>\n",
    ">  value_std = (value - mean) / standard_deviation"
   ]
  },
  {
   "cell_type": "code",
   "execution_count": null,
   "metadata": {},
   "outputs": [],
   "source": [
    "# define standardizing function\n",
    "def normalize(df):\n",
    "    columns = df.columns\n",
    "    output_df = df\n",
    "    for c in columns: \n",
    "        output_df[c+'_Std'] = (df[c] - df[c].mean()) / df[c].std()\n",
    "        output_df = output_df.drop(c, axis=1)\n",
    "    return output_df"
   ]
  },
  {
   "cell_type": "markdown",
   "metadata": {},
   "source": [
    "The next code block will apply our function to create a DataFrame with standardized values. Then, we will join this to our table and drop the original columns."
   ]
  },
  {
   "cell_type": "code",
   "execution_count": null,
   "metadata": {},
   "outputs": [],
   "source": [
    "num_columns = ['Age', 'Balance', 'Days_Passed', 'Duration', 'No_Of_Contacts', 'Total_No_Of_Contacts']\n",
    "standardized_table = combined_table[num_columns]\n",
    "combined_table = combined_table.join(standardized_table)\n",
    "combined_table = combined_table.drop(num_columns, axis=1)"
   ]
  },
  {
   "cell_type": "code",
   "execution_count": 542,
   "metadata": {},
   "outputs": [
    {
     "data": {
      "text/plain": [
       "HH_Insurance                5.896307e-01\n",
       "Car_Loan                    1.816288e-01\n",
       "Default_Flag                2.050663e-01\n",
       "Contacted                   7.951705e-01\n",
       "Current_Success             6.057765e-01\n",
       "Overall_Success             5.031250e-01\n",
       "Age_Std                     1.912901e-16\n",
       "Balance_Std                -5.476837e-16\n",
       "Days_Passed_Std             1.613987e-15\n",
       "Duration_Std                7.573588e-17\n",
       "No_Of_Contacts_Std          1.211116e-14\n",
       "Total_No_Of_Contacts_Std    5.757366e-15\n",
       "dtype: float64"
      ]
     },
     "execution_count": 542,
     "metadata": {},
     "output_type": "execute_result"
    }
   ],
   "source": [
    "combined_table.mean() # all numeric variales have a mean very very close to 0"
   ]
  },
  {
   "cell_type": "markdown",
   "metadata": {},
   "source": [
    "### Handling NULL Values\n",
    "Finally, we have to deal with missing values. Notice that the only missing values are under call info for people who were not contacted during the campaigns. Rather than filter out these missing values, we will create two different data frames: <br>\n",
    "  > *  <b>contacted1</b>:  clients who were contacted during the first campaign with ALL columns <br>\n",
    "  > *  <b>clients</b>:  all clients in PFA databases with only columns on patient demographics"
   ]
  },
  {
   "cell_type": "code",
   "execution_count": 543,
   "metadata": {},
   "outputs": [
    {
     "data": {
      "text/plain": [
       "Gender                         0\n",
       "Marital                        0\n",
       "Job                            0\n",
       "Education                      0\n",
       "HH_Insurance                   0\n",
       "Car_Loan                       0\n",
       "Default_Flag                   0\n",
       "Last_Contact                4326\n",
       "Weekday                     4326\n",
       "Hour                        4885\n",
       "Contacted                      0\n",
       "Current_Success                0\n",
       "Overall_Success                0\n",
       "Age_Std                        0\n",
       "Balance_Std                    0\n",
       "Days_Passed_Std                0\n",
       "Duration_Std                4885\n",
       "No_Of_Contacts_Std             0\n",
       "Total_No_Of_Contacts_Std       0\n",
       "dtype: int64"
      ]
     },
     "execution_count": 543,
     "metadata": {},
     "output_type": "execute_result"
    }
   ],
   "source": [
    "combined_table.isnull().sum()"
   ]
  },
  {
   "cell_type": "code",
   "execution_count": 558,
   "metadata": {},
   "outputs": [
    {
     "data": {
      "text/plain": [
       "Gender                      0\n",
       "Marital                     0\n",
       "Job                         0\n",
       "Education                   0\n",
       "HH_Insurance                0\n",
       "Car_Loan                    0\n",
       "Default_Flag                0\n",
       "Last_Contact                0\n",
       "Weekday                     0\n",
       "Hour                        0\n",
       "Contacted                   0\n",
       "Current_Success             0\n",
       "Age_Std                     0\n",
       "Balance_Std                 0\n",
       "Days_Passed_Std             0\n",
       "Duration_Std                0\n",
       "No_Of_Contacts_Std          0\n",
       "Total_No_Of_Contacts_Std    0\n",
       "dtype: int64"
      ]
     },
     "execution_count": 558,
     "metadata": {},
     "output_type": "execute_result"
    }
   ],
   "source": [
    "contacted1 = combined_table.loc[combined_table.Contacted == True]\n",
    "contacted1 = contacted1.loc[contacted1.Last_Contact >= '2017-08-17']\n",
    "contacted1 = contacted1.drop('Overall_Success', axis=1)\n",
    "contacted1.isnull().sum()"
   ]
  },
  {
   "cell_type": "code",
   "execution_count": 559,
   "metadata": {},
   "outputs": [
    {
     "data": {
      "text/plain": [
       "Gender                      0\n",
       "Marital                     0\n",
       "Job                         0\n",
       "Education                   0\n",
       "HH_Insurance                0\n",
       "Car_Loan                    0\n",
       "Default_Flag                0\n",
       "Overall_Success             0\n",
       "Age_Std                     0\n",
       "Balance_Std                 0\n",
       "Total_No_Of_Contacts_Std    0\n",
       "dtype: int64"
      ]
     },
     "execution_count": 559,
     "metadata": {},
     "output_type": "execute_result"
    }
   ],
   "source": [
    "clients = combined_table.drop(['Last_Contact', 'Weekday', 'Hour', 'Contacted', 'Current_Success', 'Days_Passed_Std', 'Duration_Std', 'No_Of_Contacts_Std'], axis=1)\n",
    "clients.isnull().sum()"
   ]
  },
  {
   "cell_type": "markdown",
   "metadata": {},
   "source": [
    "# Model 1: Logistic Regression"
   ]
  },
  {
   "cell_type": "markdown",
   "metadata": {},
   "source": [
    "## What are the biggest indicators of success for the current campaign?\n",
    "For this analysis, we will be using contacted1 - informaton from the current campaign database joined with the client data."
   ]
  },
  {
   "cell_type": "markdown",
   "metadata": {},
   "source": [
    "### Response Variable: Current_Success\n",
    "Let's check the distribution of success for the current campaign - this mearure will be our response variable."
   ]
  },
  {
   "cell_type": "code",
   "execution_count": 560,
   "metadata": {},
   "outputs": [
    {
     "data": {
      "image/png": "[encoded data removed]",
      "text/plain": [
       "<Figure size 432x288 with 1 Axes>"
      ]
     },
     "metadata": {},
     "output_type": "display_data"
    }
   ],
   "source": [
    "sns.countplot(x='Current_Success', data=contacted1, palette='hls');\n",
    "plt.title(\"Binary Values of success\");"
   ]
  },
  {
   "cell_type": "markdown",
   "metadata": {},
   "source": [
    "### Predictor Variables\n",
    "We have many different types of data in our data set - some are numeric and some are categorical. In logistic regression, ALL predictor variables have to be numeric. To get around this, we will use dummy variables. Dummy variables makes each level in the category it's own variable, then assigns those new variables a 0 or 1 based whether on the level of original variable. For example: <br>\n",
    "> Old Categorical Variable: Gender = 'M', 'F' <br>\n",
    "> New Dummy Variables: Gender_M, Gender_F <br>\n",
    "> Value of Dummy Variables for a Female Client: Gender_M = 0, Gender_F = 1 <br>\n",
    "> Value of Dummy Variables for a Male Client: Gender_M = 1, Gender_F = 0 <br>"
   ]
  },
  {
   "cell_type": "markdown",
   "metadata": {},
   "source": [
    "Categorical variables in contacted1: Hour, Weekday, Education, Job, Marital, Gender"
   ]
  },
  {
   "cell_type": "code",
   "execution_count": 561,
   "metadata": {},
   "outputs": [
    {
     "data": {
      "text/plain": [
       "Index(['HH_Insurance', 'Car_Loan', 'Default_Flag', 'Last_Contact', 'Contacted',\n",
       "       'Current_Success', 'Age_Std', 'Balance_Std', 'Days_Passed_Std',\n",
       "       'Duration_Std', 'No_Of_Contacts_Std', 'Total_No_Of_Contacts_Std',\n",
       "       'Hour_8.0', 'Hour_9.0', 'Hour_10.0', 'Hour_11.0', 'Hour_13.0',\n",
       "       'Hour_14.0', 'Hour_15.0', 'Hour_16.0', 'Hour_17.0', 'Hour_18.0',\n",
       "       'Hour_19.0', 'Weekday_Friday', 'Weekday_Saturday', 'Weekday_Sunday',\n",
       "       'Weekday_Thursday', 'Weekday_Tuesday', 'Weekday_Wednesday', 'Job_N/A',\n",
       "       'Job_admin', 'Job_blue-collar', 'Job_entrepreneur', 'Job_housemaid',\n",
       "       'Job_management', 'Job_retired', 'Job_self-employed', 'Job_services',\n",
       "       'Job_student', 'Job_technician', 'Gender_F', 'Education_N/A',\n",
       "       'Education_secondary', 'Education_tertiary', 'Marital_divorced',\n",
       "       'Marital_married'],\n",
       "      dtype='object')"
      ]
     },
     "execution_count": 561,
     "metadata": {},
     "output_type": "execute_result"
    }
   ],
   "source": [
    "cat_vars = ['Hour', 'Weekday', 'Job', 'Gender', 'Education', 'Marital']\n",
    "\n",
    "df = contacted1\n",
    "\n",
    "# dummy variables\n",
    "for var in cat_vars:\n",
    "    cat_list='var'+'_'+var\n",
    "    cat_list = pd.get_dummies(df[var], prefix=var)\n",
    "    data1=df.join(cat_list)\n",
    "    df=data1\n",
    "\n",
    "# set the base case\n",
    "base_cases = ['Hour_12.0', 'Weekday_Monday', \n",
    "              'Job_unemployed', 'Gender_M', \n",
    "              'Education_primary', 'Marital_single']\n",
    "\n",
    "# remove the old categorical variables and the base cases\n",
    "to_drop = cat_vars + base_cases\n",
    "contacted1_vars = df.columns.values.tolist()\n",
    "to_keep = [i for i in contacted1_vars if i not in to_drop]\n",
    "contacted1_final = df[to_keep]\n",
    "\n",
    "# check that the dataframe now has the dummy variables as columns\n",
    "contacted1_final.columns"
   ]
  },
  {
   "cell_type": "markdown",
   "metadata": {},
   "source": [
    "Notice that some dummy variables were chosen as base cases and dropped. This is a comparison baseline for all other levels of that category. For example: <br>\n",
    "> Old Categorical Variable: Gender = 'M', 'F' <br>\n",
    "> New Dummy Variables: Gender_M, Gender_F <br>\n",
    "> Value of Dummy Variables for a Female Client: Gender_M = 0, Gender_F = 1 <br>\n",
    "> Value of Dummy Variables for a Male Client: Gender_M = 1, Gender_F = 0 <br>\n",
    "> Base Case: Gender_M <br>\n",
    "> Value of Dummy Variables for a Female Client: Gender_F = 1 <br>\n",
    "> Value of Dummy Variables for a Male Client: Gender_F = 0"
   ]
  },
  {
   "cell_type": "markdown",
   "metadata": {},
   "source": [
    "Base Cases: <br>\n",
    "> Hour: noon <br>\n",
    "Weekday: Monday <br>\n",
    "Education: primary <br>\n",
    "Job: unemployed <br>\n",
    "Marital: single <br>\n",
    "Gender: M"
   ]
  },
  {
   "cell_type": "markdown",
   "metadata": {},
   "source": [
    "### Model Implementation\n",
    "We now have all our variables correctly refactored. Set success as the response variable (y) and all other variables as the features (X)."
   ]
  },
  {
   "cell_type": "code",
   "execution_count": 562,
   "metadata": {},
   "outputs": [],
   "source": [
    "y = contacted1_final['Current_Success']\n",
    "X = contacted1_final.drop(['Current_Success', 'Contacted', 'Last_Contact'], axis=1) \n",
    "    # we can drop ID and contacted, these won't be useful as predictors\n",
    "    # Last Contact data is encompassed by Days Passed - this column won't be used in modeling"
   ]
  },
  {
   "cell_type": "markdown",
   "metadata": {},
   "source": [
    "Next, we will do <b>recursive feature selection</b>. This process iterally builds our model using different combination of predictor variables until it settles on the combination of features that gives the most significant model. <br>\n",
    "This process takes an arguement that specifies the number of features to select. If the argument = 1, it will rank all the features by importance to model. Let's see the rankings for each feature."
   ]
  },
  {
   "cell_type": "code",
   "execution_count": 563,
   "metadata": {},
   "outputs": [
    {
     "data": {
      "text/html": [
       "<div>\n",
       "<style scoped>\n",
       "    .dataframe tbody tr th:only-of-type {\n",
       "        vertical-align: middle;\n",
       "    }\n",
       "\n",
       "    .dataframe tbody tr th {\n",
       "        vertical-align: top;\n",
       "    }\n",
       "\n",
       "    .dataframe thead th {\n",
       "        text-align: right;\n",
       "    }\n",
       "</style>\n",
       "<table border=\"1\" class=\"dataframe\">\n",
       "  <thead>\n",
       "    <tr style=\"text-align: right;\">\n",
       "      <th></th>\n",
       "      <th>vars</th>\n",
       "      <th>ranking</th>\n",
       "    </tr>\n",
       "  </thead>\n",
       "  <tbody>\n",
       "    <tr>\n",
       "      <th>32</th>\n",
       "      <td>Job_retired</td>\n",
       "      <td>1</td>\n",
       "    </tr>\n",
       "    <tr>\n",
       "      <th>0</th>\n",
       "      <td>HH_Insurance</td>\n",
       "      <td>2</td>\n",
       "    </tr>\n",
       "    <tr>\n",
       "      <th>42</th>\n",
       "      <td>Marital_married</td>\n",
       "      <td>3</td>\n",
       "    </tr>\n",
       "    <tr>\n",
       "      <th>36</th>\n",
       "      <td>Job_technician</td>\n",
       "      <td>4</td>\n",
       "    </tr>\n",
       "    <tr>\n",
       "      <th>38</th>\n",
       "      <td>Education_N/A</td>\n",
       "      <td>5</td>\n",
       "    </tr>\n",
       "    <tr>\n",
       "      <th>35</th>\n",
       "      <td>Job_student</td>\n",
       "      <td>6</td>\n",
       "    </tr>\n",
       "    <tr>\n",
       "      <th>4</th>\n",
       "      <td>Balance_Std</td>\n",
       "      <td>7</td>\n",
       "    </tr>\n",
       "    <tr>\n",
       "      <th>2</th>\n",
       "      <td>Default_Flag</td>\n",
       "      <td>8</td>\n",
       "    </tr>\n",
       "    <tr>\n",
       "      <th>29</th>\n",
       "      <td>Job_entrepreneur</td>\n",
       "      <td>9</td>\n",
       "    </tr>\n",
       "    <tr>\n",
       "      <th>31</th>\n",
       "      <td>Job_management</td>\n",
       "      <td>10</td>\n",
       "    </tr>\n",
       "  </tbody>\n",
       "</table>\n",
       "</div>"
      ],
      "text/plain": [
       "                vars  ranking\n",
       "32       Job_retired        1\n",
       "0       HH_Insurance        2\n",
       "42   Marital_married        3\n",
       "36    Job_technician        4\n",
       "38     Education_N/A        5\n",
       "35       Job_student        6\n",
       "4        Balance_Std        7\n",
       "2       Default_Flag        8\n",
       "29  Job_entrepreneur        9\n",
       "31    Job_management       10"
      ]
     },
     "execution_count": 563,
     "metadata": {},
     "output_type": "execute_result"
    }
   ],
   "source": [
    "# run RFE \n",
    "logreg = LogisticRegression()\n",
    "rfe = RFE(logreg, 1)\n",
    "rfe = rfe.fit(X.astype(float), y)\n",
    "\n",
    "# pair the rankings with their feature names in a dataframe\n",
    "ranked = pd.DataFrame(index=np.arange(0, len(X.columns)), columns=['vars', 'ranking'])\n",
    "ranked.vars = X.columns\n",
    "ranked.ranking = rfe.ranking_\n",
    "\n",
    "# show the features sorted by their ranking (only showing the top 10 features)\n",
    "ranked.sort_values('ranking')[ranked.ranking <= 10]"
   ]
  },
  {
   "cell_type": "markdown",
   "metadata": {},
   "source": [
    "Next, we will split our data into <b>training and testing sets</b>. We build the model on the training set, then check the accuracy using the testing set. The model can generate predictions on the test set, then compare to the actual value of each entry in the test set to compute the accuracy for the model. <br>\n",
    "Common practice is to make the size of the test set 20-30% of the size of the dataset. Here, we chose 30%"
   ]
  },
  {
   "cell_type": "code",
   "execution_count": 564,
   "metadata": {},
   "outputs": [],
   "source": [
    "X_train, X_test, y_train, y_test = train_test_split(X, y, test_size=0.2, random_state=0)"
   ]
  },
  {
   "cell_type": "code",
   "execution_count": 565,
   "metadata": {},
   "outputs": [],
   "source": [
    "# generate the model\n",
    "logreg = LogisticRegression()\n",
    "logreg.fit(X_train, y_train);"
   ]
  },
  {
   "cell_type": "markdown",
   "metadata": {},
   "source": [
    "The output of the logistic regression is coefficients for each feature, which describe how the featuer relates to the response variable. Larger positive coefficients indicate a positive indication the current campaign will be a success for that attribute; larger negative coefficients indicate an indication the current campaign will be a failure for that attribute. <br>\n",
    "Let's add the coefficients from the model to the ranking dataframe so we can see them all together."
   ]
  },
  {
   "cell_type": "code",
   "execution_count": 566,
   "metadata": {},
   "outputs": [
    {
     "data": {
      "text/html": [
       "<div>\n",
       "<style scoped>\n",
       "    .dataframe tbody tr th:only-of-type {\n",
       "        vertical-align: middle;\n",
       "    }\n",
       "\n",
       "    .dataframe tbody tr th {\n",
       "        vertical-align: top;\n",
       "    }\n",
       "\n",
       "    .dataframe thead th {\n",
       "        text-align: right;\n",
       "    }\n",
       "</style>\n",
       "<table border=\"1\" class=\"dataframe\">\n",
       "  <thead>\n",
       "    <tr style=\"text-align: right;\">\n",
       "      <th></th>\n",
       "      <th>vars</th>\n",
       "      <th>ranking</th>\n",
       "      <th>coeffs</th>\n",
       "    </tr>\n",
       "  </thead>\n",
       "  <tbody>\n",
       "    <tr>\n",
       "      <th>32</th>\n",
       "      <td>Job_retired</td>\n",
       "      <td>1</td>\n",
       "      <td>0.197150</td>\n",
       "    </tr>\n",
       "    <tr>\n",
       "      <th>0</th>\n",
       "      <td>HH_Insurance</td>\n",
       "      <td>2</td>\n",
       "      <td>0.740137</td>\n",
       "    </tr>\n",
       "    <tr>\n",
       "      <th>42</th>\n",
       "      <td>Marital_married</td>\n",
       "      <td>3</td>\n",
       "      <td>0.621822</td>\n",
       "    </tr>\n",
       "    <tr>\n",
       "      <th>36</th>\n",
       "      <td>Job_technician</td>\n",
       "      <td>4</td>\n",
       "      <td>-0.543409</td>\n",
       "    </tr>\n",
       "    <tr>\n",
       "      <th>38</th>\n",
       "      <td>Education_N/A</td>\n",
       "      <td>5</td>\n",
       "      <td>0.572816</td>\n",
       "    </tr>\n",
       "    <tr>\n",
       "      <th>35</th>\n",
       "      <td>Job_student</td>\n",
       "      <td>6</td>\n",
       "      <td>-0.263216</td>\n",
       "    </tr>\n",
       "    <tr>\n",
       "      <th>4</th>\n",
       "      <td>Balance_Std</td>\n",
       "      <td>7</td>\n",
       "      <td>0.247631</td>\n",
       "    </tr>\n",
       "    <tr>\n",
       "      <th>2</th>\n",
       "      <td>Default_Flag</td>\n",
       "      <td>8</td>\n",
       "      <td>-0.231822</td>\n",
       "    </tr>\n",
       "    <tr>\n",
       "      <th>29</th>\n",
       "      <td>Job_entrepreneur</td>\n",
       "      <td>9</td>\n",
       "      <td>0.143997</td>\n",
       "    </tr>\n",
       "    <tr>\n",
       "      <th>31</th>\n",
       "      <td>Job_management</td>\n",
       "      <td>10</td>\n",
       "      <td>0.158567</td>\n",
       "    </tr>\n",
       "    <tr>\n",
       "      <th>19</th>\n",
       "      <td>Hour_19.0</td>\n",
       "      <td>11</td>\n",
       "      <td>0.238419</td>\n",
       "    </tr>\n",
       "    <tr>\n",
       "      <th>39</th>\n",
       "      <td>Education_secondary</td>\n",
       "      <td>12</td>\n",
       "      <td>0.289349</td>\n",
       "    </tr>\n",
       "    <tr>\n",
       "      <th>3</th>\n",
       "      <td>Age_Std</td>\n",
       "      <td>13</td>\n",
       "      <td>0.174694</td>\n",
       "    </tr>\n",
       "    <tr>\n",
       "      <th>7</th>\n",
       "      <td>No_Of_Contacts_Std</td>\n",
       "      <td>14</td>\n",
       "      <td>-0.192139</td>\n",
       "    </tr>\n",
       "    <tr>\n",
       "      <th>28</th>\n",
       "      <td>Job_blue-collar</td>\n",
       "      <td>15</td>\n",
       "      <td>-0.135104</td>\n",
       "    </tr>\n",
       "    <tr>\n",
       "      <th>40</th>\n",
       "      <td>Education_tertiary</td>\n",
       "      <td>16</td>\n",
       "      <td>0.138959</td>\n",
       "    </tr>\n",
       "    <tr>\n",
       "      <th>14</th>\n",
       "      <td>Hour_14.0</td>\n",
       "      <td>17</td>\n",
       "      <td>-0.081682</td>\n",
       "    </tr>\n",
       "    <tr>\n",
       "      <th>34</th>\n",
       "      <td>Job_services</td>\n",
       "      <td>18</td>\n",
       "      <td>0.065339</td>\n",
       "    </tr>\n",
       "    <tr>\n",
       "      <th>18</th>\n",
       "      <td>Hour_18.0</td>\n",
       "      <td>19</td>\n",
       "      <td>0.129796</td>\n",
       "    </tr>\n",
       "    <tr>\n",
       "      <th>25</th>\n",
       "      <td>Weekday_Wednesday</td>\n",
       "      <td>20</td>\n",
       "      <td>-0.111740</td>\n",
       "    </tr>\n",
       "    <tr>\n",
       "      <th>41</th>\n",
       "      <td>Marital_divorced</td>\n",
       "      <td>21</td>\n",
       "      <td>0.093645</td>\n",
       "    </tr>\n",
       "    <tr>\n",
       "      <th>16</th>\n",
       "      <td>Hour_16.0</td>\n",
       "      <td>22</td>\n",
       "      <td>0.096545</td>\n",
       "    </tr>\n",
       "    <tr>\n",
       "      <th>20</th>\n",
       "      <td>Weekday_Friday</td>\n",
       "      <td>23</td>\n",
       "      <td>0.060089</td>\n",
       "    </tr>\n",
       "    <tr>\n",
       "      <th>11</th>\n",
       "      <td>Hour_10.0</td>\n",
       "      <td>24</td>\n",
       "      <td>0.052175</td>\n",
       "    </tr>\n",
       "    <tr>\n",
       "      <th>17</th>\n",
       "      <td>Hour_17.0</td>\n",
       "      <td>25</td>\n",
       "      <td>0.050267</td>\n",
       "    </tr>\n",
       "    <tr>\n",
       "      <th>9</th>\n",
       "      <td>Hour_8.0</td>\n",
       "      <td>26</td>\n",
       "      <td>0.101534</td>\n",
       "    </tr>\n",
       "    <tr>\n",
       "      <th>26</th>\n",
       "      <td>Job_N/A</td>\n",
       "      <td>27</td>\n",
       "      <td>-0.108144</td>\n",
       "    </tr>\n",
       "    <tr>\n",
       "      <th>12</th>\n",
       "      <td>Hour_11.0</td>\n",
       "      <td>28</td>\n",
       "      <td>0.039558</td>\n",
       "    </tr>\n",
       "    <tr>\n",
       "      <th>6</th>\n",
       "      <td>Duration_Std</td>\n",
       "      <td>29</td>\n",
       "      <td>0.056894</td>\n",
       "    </tr>\n",
       "    <tr>\n",
       "      <th>33</th>\n",
       "      <td>Job_self-employed</td>\n",
       "      <td>30</td>\n",
       "      <td>-0.093277</td>\n",
       "    </tr>\n",
       "    <tr>\n",
       "      <th>30</th>\n",
       "      <td>Job_housemaid</td>\n",
       "      <td>31</td>\n",
       "      <td>-0.084954</td>\n",
       "    </tr>\n",
       "    <tr>\n",
       "      <th>22</th>\n",
       "      <td>Weekday_Sunday</td>\n",
       "      <td>32</td>\n",
       "      <td>0.009282</td>\n",
       "    </tr>\n",
       "    <tr>\n",
       "      <th>1</th>\n",
       "      <td>Car_Loan</td>\n",
       "      <td>33</td>\n",
       "      <td>-0.041845</td>\n",
       "    </tr>\n",
       "    <tr>\n",
       "      <th>8</th>\n",
       "      <td>Total_No_Of_Contacts_Std</td>\n",
       "      <td>34</td>\n",
       "      <td>0.048777</td>\n",
       "    </tr>\n",
       "    <tr>\n",
       "      <th>15</th>\n",
       "      <td>Hour_15.0</td>\n",
       "      <td>35</td>\n",
       "      <td>-0.007832</td>\n",
       "    </tr>\n",
       "    <tr>\n",
       "      <th>13</th>\n",
       "      <td>Hour_13.0</td>\n",
       "      <td>36</td>\n",
       "      <td>0.034703</td>\n",
       "    </tr>\n",
       "    <tr>\n",
       "      <th>37</th>\n",
       "      <td>Gender_F</td>\n",
       "      <td>37</td>\n",
       "      <td>-0.018937</td>\n",
       "    </tr>\n",
       "    <tr>\n",
       "      <th>24</th>\n",
       "      <td>Weekday_Tuesday</td>\n",
       "      <td>38</td>\n",
       "      <td>-0.048085</td>\n",
       "    </tr>\n",
       "    <tr>\n",
       "      <th>5</th>\n",
       "      <td>Days_Passed_Std</td>\n",
       "      <td>39</td>\n",
       "      <td>-0.032092</td>\n",
       "    </tr>\n",
       "    <tr>\n",
       "      <th>27</th>\n",
       "      <td>Job_admin</td>\n",
       "      <td>40</td>\n",
       "      <td>-0.037565</td>\n",
       "    </tr>\n",
       "    <tr>\n",
       "      <th>21</th>\n",
       "      <td>Weekday_Saturday</td>\n",
       "      <td>41</td>\n",
       "      <td>0.025155</td>\n",
       "    </tr>\n",
       "    <tr>\n",
       "      <th>23</th>\n",
       "      <td>Weekday_Thursday</td>\n",
       "      <td>42</td>\n",
       "      <td>-0.006947</td>\n",
       "    </tr>\n",
       "    <tr>\n",
       "      <th>10</th>\n",
       "      <td>Hour_9.0</td>\n",
       "      <td>43</td>\n",
       "      <td>0.003141</td>\n",
       "    </tr>\n",
       "  </tbody>\n",
       "</table>\n",
       "</div>"
      ],
      "text/plain": [
       "                        vars  ranking    coeffs\n",
       "32               Job_retired        1  0.197150\n",
       "0               HH_Insurance        2  0.740137\n",
       "42           Marital_married        3  0.621822\n",
       "36            Job_technician        4 -0.543409\n",
       "38             Education_N/A        5  0.572816\n",
       "35               Job_student        6 -0.263216\n",
       "4                Balance_Std        7  0.247631\n",
       "2               Default_Flag        8 -0.231822\n",
       "29          Job_entrepreneur        9  0.143997\n",
       "31            Job_management       10  0.158567\n",
       "19                 Hour_19.0       11  0.238419\n",
       "39       Education_secondary       12  0.289349\n",
       "3                    Age_Std       13  0.174694\n",
       "7         No_Of_Contacts_Std       14 -0.192139\n",
       "28           Job_blue-collar       15 -0.135104\n",
       "40        Education_tertiary       16  0.138959\n",
       "14                 Hour_14.0       17 -0.081682\n",
       "34              Job_services       18  0.065339\n",
       "18                 Hour_18.0       19  0.129796\n",
       "25         Weekday_Wednesday       20 -0.111740\n",
       "41          Marital_divorced       21  0.093645\n",
       "16                 Hour_16.0       22  0.096545\n",
       "20            Weekday_Friday       23  0.060089\n",
       "11                 Hour_10.0       24  0.052175\n",
       "17                 Hour_17.0       25  0.050267\n",
       "9                   Hour_8.0       26  0.101534\n",
       "26                   Job_N/A       27 -0.108144\n",
       "12                 Hour_11.0       28  0.039558\n",
       "6               Duration_Std       29  0.056894\n",
       "33         Job_self-employed       30 -0.093277\n",
       "30             Job_housemaid       31 -0.084954\n",
       "22            Weekday_Sunday       32  0.009282\n",
       "1                   Car_Loan       33 -0.041845\n",
       "8   Total_No_Of_Contacts_Std       34  0.048777\n",
       "15                 Hour_15.0       35 -0.007832\n",
       "13                 Hour_13.0       36  0.034703\n",
       "37                  Gender_F       37 -0.018937\n",
       "24           Weekday_Tuesday       38 -0.048085\n",
       "5            Days_Passed_Std       39 -0.032092\n",
       "27                 Job_admin       40 -0.037565\n",
       "21          Weekday_Saturday       41  0.025155\n",
       "23          Weekday_Thursday       42 -0.006947\n",
       "10                  Hour_9.0       43  0.003141"
      ]
     },
     "execution_count": 566,
     "metadata": {},
     "output_type": "execute_result"
    }
   ],
   "source": [
    "# add coefficients to ranked\n",
    "coeffs = pd.DataFrame(index=np.arange(len(X.columns)), columns = ['vars', 'coeffs'])\n",
    "coeffs.vars = X.columns\n",
    "coeffs.coeffs = logreg.coef_.reshape(logreg.coef_.size,1)\n",
    "ranked = pd.merge(ranked, coeffs, how=\"inner\", on=\"vars\")\n",
    "\n",
    "# show the features and the coefficients sorted by their ranking\n",
    "ranked.sort_values('ranking')"
   ]
  },
  {
   "cell_type": "markdown",
   "metadata": {},
   "source": [
    "Next, we can evaluate the <b> accuracy </b> of the model based on the predicitons."
   ]
  },
  {
   "cell_type": "code",
   "execution_count": 567,
   "metadata": {},
   "outputs": [
    {
     "name": "stdout",
     "output_type": "stream",
     "text": [
      "Accuracy of logistic regression classifier on test set: 0.643\n",
      "Confusion matrix, without normalization\n",
      "[[ 814  716]\n",
      " [ 443 1274]]\n"
     ]
    },
    {
     "data": {
      "image/png": "[encoded data removed]",
      "text/plain": [
       "<Figure size 432x288 with 2 Axes>"
      ]
     },
     "metadata": {},
     "output_type": "display_data"
    }
   ],
   "source": [
    "y_pred = logreg.predict(X_test)\n",
    "print('Accuracy of logistic regression classifier on test set: {:.3f}'.format(logreg.score(X_test, y_test)))\n",
    "cm = confusion_matrix(y_test, y_pred)\n",
    "plot_confusion_matrix(cm, ['failure', 'success'])"
   ]
  },
  {
   "cell_type": "markdown",
   "metadata": {},
   "source": [
    "The confusion matrix above describes the accuracy of the model. Adding along the diagonal gives the overall accuracy of the model. Each box sums the predicted versus actual for every entry in the test set."
   ]
  },
  {
   "cell_type": "markdown",
   "metadata": {},
   "source": [
    "#  Model 2: Random Forest"
   ]
  },
  {
   "cell_type": "markdown",
   "metadata": {},
   "source": [
    "## What types of clients will buy insurance with PFA?\n",
    "For this analysis, we will be using clients - information on all clients."
   ]
  },
  {
   "cell_type": "markdown",
   "metadata": {},
   "source": [
    "### Response Variable: Overall_Success\n",
    "Let's check the distribution of success for the current campaign - this mearure will be our response variable."
   ]
  },
  {
   "cell_type": "code",
   "execution_count": 552,
   "metadata": {},
   "outputs": [
    {
     "data": {
      "image/png": "[encoded data removed]",
      "text/plain": [
       "<Figure size 432x288 with 1 Axes>"
      ]
     },
     "metadata": {},
     "output_type": "display_data"
    }
   ],
   "source": [
    "sns.countplot(x='Overall_Success', data=clients, palette='hls');\n",
    "plt.title(\"Binary Values of success\");"
   ]
  },
  {
   "cell_type": "markdown",
   "metadata": {},
   "source": [
    "### Predictor Variables\n",
    "Again, we have many different types of data in our data set - some are numeric and some are categorical. Decision trees also require that all predictors be numeric, so again we will use dummy variables."
   ]
  },
  {
   "cell_type": "code",
   "execution_count": 553,
   "metadata": {},
   "outputs": [
    {
     "data": {
      "text/plain": [
       "Index(['HH_Insurance', 'Car_Loan', 'Default_Flag', 'Overall_Success',\n",
       "       'Age_Std', 'Balance_Std', 'Total_No_Of_Contacts_Std', 'Education_N/A',\n",
       "       'Education_secondary', 'Education_tertiary', 'Job_N/A', 'Job_admin',\n",
       "       'Job_blue-collar', 'Job_entrepreneur', 'Job_housemaid',\n",
       "       'Job_management', 'Job_retired', 'Job_self-employed', 'Job_services',\n",
       "       'Job_student', 'Job_technician', 'Marital_divorced', 'Marital_married',\n",
       "       'Gender_F'],\n",
       "      dtype='object')"
      ]
     },
     "execution_count": 553,
     "metadata": {},
     "output_type": "execute_result"
    }
   ],
   "source": [
    "cat_vars = ['Education', 'Job', 'Marital', 'Gender']\n",
    "\n",
    "df = clients\n",
    "\n",
    "# dummy variables\n",
    "for var in cat_vars:\n",
    "    cat_list='var'+'_'+var\n",
    "    cat_list = pd.get_dummies(df[var], prefix=var)\n",
    "    data1=df.join(cat_list)\n",
    "    df=data1\n",
    "\n",
    "# set the base case\n",
    "base_cases = ['Job_unemployed', 'Gender_M', 'Education_primary', 'Marital_single']\n",
    "\n",
    "# remove the old categorical variables and the base cases\n",
    "to_drop = cat_vars + base_cases\n",
    "clients_vars = df.columns.values.tolist()\n",
    "to_keep = [i for i in clients_vars if i not in to_drop]\n",
    "clients_final = df[to_keep]\n",
    "\n",
    "# check that the dataframe now has the dummy variables as columns\n",
    "clients_final.columns"
   ]
  },
  {
   "cell_type": "markdown",
   "metadata": {},
   "source": [
    "Base Cases: <br>\n",
    "> Education: primary <br>\n",
    "Job: unemployed <br>\n",
    "Marital: single <br>\n",
    "Gender: M"
   ]
  },
  {
   "cell_type": "markdown",
   "metadata": {},
   "source": [
    "### Model Implementation\n",
    "We now have all our variables correctly refactored. Set success as the response variable (y) and all other variables as the features (X)."
   ]
  },
  {
   "cell_type": "code",
   "execution_count": 554,
   "metadata": {},
   "outputs": [],
   "source": [
    "y = clients_final['Overall_Success']\n",
    "X = clients_final.drop(['Overall_Success'], axis=1)\n",
    "    # we can drop ID, this won't be useful as predictors"
   ]
  },
  {
   "cell_type": "markdown",
   "metadata": {},
   "source": [
    "Again, we need to split the data into test and train sets."
   ]
  },
  {
   "cell_type": "code",
   "execution_count": 555,
   "metadata": {},
   "outputs": [],
   "source": [
    "X_train, X_test, y_train, y_test = train_test_split(X, y, test_size = 0.2, random_state=222)"
   ]
  },
  {
   "cell_type": "markdown",
   "metadata": {},
   "source": [
    "Random forest models have many important parameters that must be set to prevent overfitting to the data. For example:\n",
    "> *  max_features: common practice is to use the number of parameters divided by 3 (set to 8)<br>\n",
    "> *  max_leaf_nodes: common practice is to have a maximum of 10 final states (set to 10) <br>"
   ]
  },
  {
   "cell_type": "code",
   "execution_count": 556,
   "metadata": {},
   "outputs": [],
   "source": [
    "# generate the model\n",
    "clf = RandomForestClassifier(n_estimators=100, max_leaf_nodes=10, max_features=8, random_state=222)\n",
    "clf = clf.fit(X_train, y_train)"
   ]
  },
  {
   "cell_type": "markdown",
   "metadata": {},
   "source": [
    "Next, we can evaluate the <b> accuracy </b> of the model based on the predicitons."
   ]
  },
  {
   "cell_type": "code",
   "execution_count": 557,
   "metadata": {},
   "outputs": [
    {
     "name": "stdout",
     "output_type": "stream",
     "text": [
      "Accuracy of logistic regression classifier on test set: 0.663\n",
      "Confusion matrix, without normalization\n",
      "[[1200  884]\n",
      " [ 541 1599]]\n"
     ]
    },
    {
     "data": {
      "image/png": "[encoded data removed]",
      "text/plain": [
       "<Figure size 432x288 with 2 Axes>"
      ]
     },
     "metadata": {},
     "output_type": "display_data"
    }
   ],
   "source": [
    "# print the accuracy\n",
    "y_pred = clf.predict(X_test)\n",
    "print('Accuracy of logistic regression classifier on test set: {:.3f}'.format(accuracy_score(y_test, y_pred)))\n",
    "\n",
    "# plot the confusion matrix\n",
    "cm = confusion_matrix(y_test, y_pred)\n",
    "plot_confusion_matrix(cm, ['failure', 'success'])"
   ]
  },
  {
   "cell_type": "markdown",
   "metadata": {},
   "source": [
    "### List of Clients Model\n",
    "Because the random forest model performed with higher accuracy and evaluated just the client demographics, we chose to use this model to generate the likelihood percentages we assigned to the list of clients. <br>\n",
    "These percentages were generated by predicting on the list of clients that had not been contacted. <br>\n",
    "<i>Note: generating this list of clients is beyond the scope of this code sample.</i>"
   ]
  }
 ],
 "metadata": {
  "kernelspec": {
   "display_name": "Python 3",
   "language": "python",
   "name": "python3"
  },
  "language_info": {
   "codemirror_mode": {
    "name": "ipython",
    "version": 3
   },
   "file_extension": ".py",
   "mimetype": "text/x-python",
   "name": "python",
   "nbconvert_exporter": "python",
   "pygments_lexer": "ipython3",
   "version": "3.6.5"
  }
 },
 "nbformat": 4,
 "nbformat_minor": 2
}
